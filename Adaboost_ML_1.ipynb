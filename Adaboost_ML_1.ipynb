{
 "cells": [
  {
   "cell_type": "markdown",
   "id": "892b6525",
   "metadata": {},
   "source": [
    "## Adaboost"
   ]
  },
  {
   "cell_type": "code",
   "execution_count": 105,
   "id": "5321a16b",
   "metadata": {},
   "outputs": [],
   "source": [
    "import pandas as pd\n",
    "import numpy as np\n",
    "import math\n",
    "import matplotlib.pyplot as plt\n",
    "from sklearn.metrics import accuracy_score"
   ]
  },
  {
   "cell_type": "code",
   "execution_count": 106,
   "id": "bb0a5be4",
   "metadata": {},
   "outputs": [
    {
     "data": {
      "text/plain": [
       "(12563, 8)"
      ]
     },
     "execution_count": 106,
     "metadata": {},
     "output_type": "execute_result"
    }
   ],
   "source": [
    "df = data = pd.read_csv(\"data_hw.csv\")\n",
    "data.drop(\"Unnamed: 0\", axis=1, inplace=True)\n",
    "data.shape"
   ]
  },
  {
   "cell_type": "markdown",
   "id": "1de5125c",
   "metadata": {},
   "source": [
    "### Preparing data"
   ]
  },
  {
   "cell_type": "code",
   "execution_count": 107,
   "id": "0c52105d",
   "metadata": {},
   "outputs": [
    {
     "data": {
      "text/html": [
       "<div>\n",
       "<style scoped>\n",
       "    .dataframe tbody tr th:only-of-type {\n",
       "        vertical-align: middle;\n",
       "    }\n",
       "\n",
       "    .dataframe tbody tr th {\n",
       "        vertical-align: top;\n",
       "    }\n",
       "\n",
       "    .dataframe thead th {\n",
       "        text-align: right;\n",
       "    }\n",
       "</style>\n",
       "<table border=\"1\" class=\"dataframe\">\n",
       "  <thead>\n",
       "    <tr style=\"text-align: right;\">\n",
       "      <th></th>\n",
       "      <th>area_type</th>\n",
       "      <th>availability</th>\n",
       "      <th>bedrooms</th>\n",
       "      <th>total_sqft</th>\n",
       "      <th>bath</th>\n",
       "      <th>balcony</th>\n",
       "      <th>ranked</th>\n",
       "      <th>price in rupees</th>\n",
       "    </tr>\n",
       "  </thead>\n",
       "  <tbody>\n",
       "    <tr>\n",
       "      <th>0</th>\n",
       "      <td>1</td>\n",
       "      <td>1</td>\n",
       "      <td>3.0</td>\n",
       "      <td>1655.0</td>\n",
       "      <td>3.0</td>\n",
       "      <td>1.0</td>\n",
       "      <td>134</td>\n",
       "      <td>10800000.0</td>\n",
       "    </tr>\n",
       "    <tr>\n",
       "      <th>1</th>\n",
       "      <td>1</td>\n",
       "      <td>1</td>\n",
       "      <td>2.0</td>\n",
       "      <td>1102.0</td>\n",
       "      <td>2.0</td>\n",
       "      <td>1.0</td>\n",
       "      <td>134</td>\n",
       "      <td>4800000.0</td>\n",
       "    </tr>\n",
       "    <tr>\n",
       "      <th>2</th>\n",
       "      <td>1</td>\n",
       "      <td>0</td>\n",
       "      <td>2.0</td>\n",
       "      <td>1112.0</td>\n",
       "      <td>2.0</td>\n",
       "      <td>1.0</td>\n",
       "      <td>242</td>\n",
       "      <td>8800000.0</td>\n",
       "    </tr>\n",
       "    <tr>\n",
       "      <th>3</th>\n",
       "      <td>1</td>\n",
       "      <td>1</td>\n",
       "      <td>3.0</td>\n",
       "      <td>1450.0</td>\n",
       "      <td>3.0</td>\n",
       "      <td>3.0</td>\n",
       "      <td>335</td>\n",
       "      <td>5100000.0</td>\n",
       "    </tr>\n",
       "    <tr>\n",
       "      <th>4</th>\n",
       "      <td>1</td>\n",
       "      <td>1</td>\n",
       "      <td>2.0</td>\n",
       "      <td>1010.0</td>\n",
       "      <td>2.0</td>\n",
       "      <td>1.0</td>\n",
       "      <td>261</td>\n",
       "      <td>4100000.0</td>\n",
       "    </tr>\n",
       "  </tbody>\n",
       "</table>\n",
       "</div>"
      ],
      "text/plain": [
       "   area_type  availability  bedrooms  total_sqft  bath  balcony  ranked  \\\n",
       "0          1             1       3.0      1655.0   3.0      1.0     134   \n",
       "1          1             1       2.0      1102.0   2.0      1.0     134   \n",
       "2          1             0       2.0      1112.0   2.0      1.0     242   \n",
       "3          1             1       3.0      1450.0   3.0      3.0     335   \n",
       "4          1             1       2.0      1010.0   2.0      1.0     261   \n",
       "\n",
       "   price in rupees  \n",
       "0       10800000.0  \n",
       "1        4800000.0  \n",
       "2        8800000.0  \n",
       "3        5100000.0  \n",
       "4        4100000.0  "
      ]
     },
     "execution_count": 107,
     "metadata": {},
     "output_type": "execute_result"
    }
   ],
   "source": [
    "data['area_type'] = data['area_type'].replace(['B'],1)\n",
    "data['area_type'] = data['area_type'].replace(['P'],-1)\n",
    "data.head()"
   ]
  },
  {
   "cell_type": "code",
   "execution_count": 108,
   "id": "6c224969",
   "metadata": {},
   "outputs": [
    {
     "data": {
      "text/plain": [
       "(2512, 7)"
      ]
     },
     "execution_count": 108,
     "metadata": {},
     "output_type": "execute_result"
    }
   ],
   "source": [
    "x_train = data.iloc[0:8040,1:].to_numpy()\n",
    "y_train = data.iloc[0:8040, :1].to_numpy()\n",
    "y_train = y_train.flatten()\n",
    "\n",
    "x_val = data.iloc[8041:10050, 1:].to_numpy()\n",
    "y_val = data.iloc[8041:10050, :1].to_numpy()\n",
    "y_val = y_val.flatten()\n",
    "\n",
    "x_test = data.iloc[10051:12563, 1:].to_numpy()\n",
    "y_test = data.iloc[10051:12563, :1].to_numpy()\n",
    "y_test = y_test.flatten()\n",
    "\n",
    "x_test.shape"
   ]
  },
  {
   "cell_type": "markdown",
   "id": "af65dd59",
   "metadata": {},
   "source": [
    "### Adaboost algorithm "
   ]
  },
  {
   "cell_type": "code",
   "execution_count": 109,
   "id": "61c60f41",
   "metadata": {},
   "outputs": [],
   "source": [
    "\n",
    "class DecisionStump:\n",
    "    def __init__(self,polarity,feature,threshold):\n",
    "        self.polarity = polarity if polarity else None\n",
    "        self.feature = feature if feature else None\n",
    "        self.threshold = threshold if threshold else None\n",
    "        self.amount_of_say = None\n",
    "\n",
    "    def predict(self, X):\n",
    "        n_samples = X.shape[0]\n",
    "        X_column = X[:, self.feature]\n",
    "        predictions = np.ones(n_samples)\n",
    "        if self.polarity == 1:\n",
    "            predictions[X_column < self.threshold] = -1\n",
    "        else:\n",
    "            predictions[X_column > self.threshold] = -1\n",
    "\n",
    "        return predictions\n",
    "\n",
    "\n",
    "\n"
   ]
  },
  {
   "cell_type": "code",
   "execution_count": 126,
   "id": "d1eb6bac",
   "metadata": {},
   "outputs": [],
   "source": [
    "class Adaboost:\n",
    "    \n",
    "    def __init__(self, n_estimator=10):\n",
    "        self.n_estimator = n_estimator\n",
    "        \n",
    "        \n",
    "    def get_amount_of_say(self,total_error):\n",
    "        small_error_term = 0.00000000000000001\n",
    "        aos = np.log((1.0 - (total_error + small_error_term) ) / (total_error + small_error_term ))\n",
    "        return 0.5 * aos\n",
    "    \n",
    "    \n",
    "    def update_weight(self,w,say,y,stump_pred):\n",
    "        new_weight = np.exp(-say*y*stump_pred)\n",
    "        new_weight/=new_weight.sum()\n",
    "        return new_weight\n",
    "    \n",
    "    \n",
    "    def best_split_feature(self,X,Y,w):\n",
    "        min_error = float(\"inf\")\n",
    "        stump_best = {}\n",
    "        for ft in range(X.shape[1]):\n",
    "            x = X[:, ft]\n",
    "            thresholds = np.unique(x)  \n",
    "            for threshold in thresholds:\n",
    "                p = 1\n",
    "                predictions = np.ones(X.shape[0])\n",
    "                predictions[x < threshold] = -1\n",
    "\n",
    "                error = sum(w[Y != predictions])\n",
    "                if error > 0.5:\n",
    "                    error = 1 - error\n",
    "                    p = -1\n",
    "                if error < min_error:\n",
    "                    stump_best['polarity'] = p\n",
    "                    stump_best['feature'] = ft\n",
    "                    stump_best['threshold'] = threshold\n",
    "                    min_error = error\n",
    "        return stump_best, min_error\n",
    "    \n",
    "        \n",
    "    def fit(self, X, y):\n",
    "        init_weight = np.full(X.shape[0], (1 / X.shape[0]))\n",
    "        w = init_weight\n",
    "        stumps = []\n",
    "        for i in range(self.n_estimator):\n",
    "            best_stump,min_error = self.best_split_feature(X,y,w)\n",
    "            stump = DecisionStump(best_stump['polarity'],best_stump['feature'],best_stump['threshold'])\n",
    "            stump.amount_of_say = self.get_amount_of_say(min_error)\n",
    "            stump_pred = stump.predict(X)\n",
    "\n",
    "            w = self.update_weight(w, stump.amount_of_say, y, stump_pred)\n",
    "            stumps.append(stump)\n",
    "        return stumps\n",
    "\n",
    "    \n",
    "    def predict(self, x, stumps):\n",
    "        y_pred = []\n",
    "        for s in stumps:\n",
    "            pred = s.amount_of_say*s.predict(x)\n",
    "            y_pred.append(pred)\n",
    "            \n",
    "        y_pred = np.sum(y_pred, axis=0)\n",
    "        y_pred = np.sign(y_pred)\n",
    "\n",
    "        return y_pred\n",
    "\n"
   ]
  },
  {
   "cell_type": "markdown",
   "id": "9adc2f9a",
   "metadata": {},
   "source": [
    " ## Training the model - before optimization"
   ]
  },
  {
   "cell_type": "code",
   "execution_count": 127,
   "id": "f0d04068",
   "metadata": {},
   "outputs": [
    {
     "name": "stdout",
     "output_type": "stream",
     "text": [
      "Wall time: 19.1 s\n"
     ]
    }
   ],
   "source": [
    "%%time\n",
    "clf = Adaboost(n_estimator=10)\n",
    "stumps = clf.fit(x_train, y_train)\n"
   ]
  },
  {
   "cell_type": "markdown",
   "id": "55acaa60",
   "metadata": {},
   "source": [
    " ## Testing the model - before optimization\n"
   ]
  },
  {
   "cell_type": "code",
   "execution_count": 128,
   "id": "897377da",
   "metadata": {},
   "outputs": [
    {
     "name": "stdout",
     "output_type": "stream",
     "text": [
      "Accuracy - our model: 0.8722133757961783\n"
     ]
    }
   ],
   "source": [
    "y_pred = clf.predict(x_test,stumps)\n",
    "\n",
    "acc = accuracy_score(y_test, y_pred)\n",
    "print(\"Accuracy - our model:\", acc)\n"
   ]
  },
  {
   "cell_type": "markdown",
   "id": "18587169",
   "metadata": {},
   "source": [
    "## Training sklearn model - before optimization"
   ]
  },
  {
   "cell_type": "code",
   "execution_count": 124,
   "id": "5099945c",
   "metadata": {},
   "outputs": [
    {
     "name": "stdout",
     "output_type": "stream",
     "text": [
      "Wall time: 65.8 ms\n"
     ]
    },
    {
     "data": {
      "text/plain": [
       "AdaBoostClassifier(n_estimators=10, random_state=0)"
      ]
     },
     "execution_count": 124,
     "metadata": {},
     "output_type": "execute_result"
    }
   ],
   "source": [
    "%%time\n",
    "from sklearn.ensemble import AdaBoostClassifier\n",
    "\n",
    "clf = AdaBoostClassifier(n_estimators=10, random_state=0)\n",
    "clf.fit(x_train, y_train)"
   ]
  },
  {
   "cell_type": "markdown",
   "id": "6a59048a",
   "metadata": {},
   "source": [
    " ## Testing sklearn model - before optimization\n"
   ]
  },
  {
   "cell_type": "code",
   "execution_count": 125,
   "id": "0d35a984",
   "metadata": {},
   "outputs": [
    {
     "name": "stdout",
     "output_type": "stream",
     "text": [
      "Accuracy - sklearn: 0.8817675159235668\n"
     ]
    }
   ],
   "source": [
    "y_sk = clf.predict(x_test)\n",
    "acc = accuracy_score(y_test, y_sk)\n",
    "print(\"Accuracy - sklearn:\", acc)"
   ]
  },
  {
   "cell_type": "code",
   "execution_count": null,
   "id": "e40d52e8",
   "metadata": {},
   "outputs": [],
   "source": []
  },
  {
   "cell_type": "markdown",
   "id": "e9a5fcb7",
   "metadata": {},
   "source": [
    "## Validation and hypertuning based on our model"
   ]
  },
  {
   "cell_type": "code",
   "execution_count": 134,
   "id": "3de16e1a",
   "metadata": {},
   "outputs": [
    {
     "name": "stdout",
     "output_type": "stream",
     "text": [
      "Rounds  10\n",
      "Rounds  20\n",
      "Rounds  30\n",
      "Rounds  40\n",
      "Rounds  50\n",
      "Rounds  60\n",
      "Rounds  70\n",
      "Rounds  80\n",
      "Rounds  90\n",
      "Wall time: 14min 52s\n"
     ]
    }
   ],
   "source": [
    "%%time\n",
    "grid_search = {\"n_estimator\": [], \"accuracy\": []}\n",
    "for n in range(10, 100,10):\n",
    "    clf_v = Adaboost(n_estimator=n)\n",
    "    s = clf_v.fit(x_train, y_train)\n",
    "    y_val_p = clf_v.predict(x_val,s)\n",
    "    acc_v =accuracy_score(y_val, y_val_p)\n",
    "    \n",
    "    grid_search[\"n_estimator\"].append(n)\n",
    "    grid_search[\"accuracy\"].append(acc_v)\n",
    "\n",
    "    print('Rounds ',n)"
   ]
  },
  {
   "cell_type": "code",
   "execution_count": 139,
   "id": "94e2c318",
   "metadata": {},
   "outputs": [
    {
     "data": {
      "text/html": [
       "<div>\n",
       "<style scoped>\n",
       "    .dataframe tbody tr th:only-of-type {\n",
       "        vertical-align: middle;\n",
       "    }\n",
       "\n",
       "    .dataframe tbody tr th {\n",
       "        vertical-align: top;\n",
       "    }\n",
       "\n",
       "    .dataframe thead th {\n",
       "        text-align: right;\n",
       "    }\n",
       "</style>\n",
       "<table border=\"1\" class=\"dataframe\">\n",
       "  <thead>\n",
       "    <tr style=\"text-align: right;\">\n",
       "      <th></th>\n",
       "      <th>n_estimator</th>\n",
       "      <th>accuracy</th>\n",
       "    </tr>\n",
       "  </thead>\n",
       "  <tbody>\n",
       "    <tr>\n",
       "      <th>0</th>\n",
       "      <td>10</td>\n",
       "      <td>0.876058</td>\n",
       "    </tr>\n",
       "    <tr>\n",
       "      <th>1</th>\n",
       "      <td>20</td>\n",
       "      <td>0.876058</td>\n",
       "    </tr>\n",
       "    <tr>\n",
       "      <th>2</th>\n",
       "      <td>30</td>\n",
       "      <td>0.876058</td>\n",
       "    </tr>\n",
       "    <tr>\n",
       "      <th>3</th>\n",
       "      <td>40</td>\n",
       "      <td>0.876058</td>\n",
       "    </tr>\n",
       "    <tr>\n",
       "      <th>4</th>\n",
       "      <td>50</td>\n",
       "      <td>0.876058</td>\n",
       "    </tr>\n",
       "    <tr>\n",
       "      <th>5</th>\n",
       "      <td>60</td>\n",
       "      <td>0.876058</td>\n",
       "    </tr>\n",
       "    <tr>\n",
       "      <th>6</th>\n",
       "      <td>70</td>\n",
       "      <td>0.876058</td>\n",
       "    </tr>\n",
       "    <tr>\n",
       "      <th>7</th>\n",
       "      <td>80</td>\n",
       "      <td>0.876058</td>\n",
       "    </tr>\n",
       "    <tr>\n",
       "      <th>8</th>\n",
       "      <td>90</td>\n",
       "      <td>0.876058</td>\n",
       "    </tr>\n",
       "  </tbody>\n",
       "</table>\n",
       "</div>"
      ],
      "text/plain": [
       "   n_estimator  accuracy\n",
       "0           10  0.876058\n",
       "1           20  0.876058\n",
       "2           30  0.876058\n",
       "3           40  0.876058\n",
       "4           50  0.876058\n",
       "5           60  0.876058\n",
       "6           70  0.876058\n",
       "7           80  0.876058\n",
       "8           90  0.876058"
      ]
     },
     "execution_count": 139,
     "metadata": {},
     "output_type": "execute_result"
    }
   ],
   "source": [
    "grid_search = pd.DataFrame(grid_search)\n",
    "grid_search.sort_values(\"accuracy\",ascending=False).head()"
   ]
  },
  {
   "cell_type": "code",
   "execution_count": 136,
   "id": "0eb34970",
   "metadata": {},
   "outputs": [
    {
     "data": {
      "text/plain": [
       "10"
      ]
     },
     "execution_count": 136,
     "metadata": {},
     "output_type": "execute_result"
    }
   ],
   "source": [
    "i = grid_search.sort_values(\"accuracy\",ascending=False).iloc[0]\n",
    "best_n_estimator = int(i['n_estimator'])\n",
    "best_n_estimator"
   ]
  },
  {
   "cell_type": "markdown",
   "id": "43ff215a",
   "metadata": {},
   "source": [
    "## Validation and hypertuning based on sklearn model"
   ]
  },
  {
   "cell_type": "code",
   "execution_count": 142,
   "id": "a907aecf",
   "metadata": {},
   "outputs": [
    {
     "name": "stdout",
     "output_type": "stream",
     "text": [
      "Rounds  10\n",
      "Rounds  20\n",
      "Rounds  30\n",
      "Rounds  40\n",
      "Rounds  50\n",
      "Rounds  60\n",
      "Rounds  70\n",
      "Rounds  80\n",
      "Rounds  90\n",
      "Wall time: 2.37 s\n"
     ]
    }
   ],
   "source": [
    "%%time\n",
    "grid_search_sk = {\"n_estimator\": [], \"accuracy\": []}\n",
    "for n in range(10, 100,10):\n",
    "    clf_v_sk = AdaBoostClassifier(n_estimators=n, random_state=0)\n",
    "    clf_v_sk.fit(x_train, y_train)\n",
    "    y_val_p_sk = clf_v_sk.predict(x_val)\n",
    "    acc_v_sk =accuracy_score(y_val, y_val_p_sk)\n",
    "    \n",
    "    grid_search_sk[\"n_estimator\"].append(n)\n",
    "    grid_search_sk[\"accuracy\"].append(acc_v_sk)\n",
    "\n",
    "    print('Rounds ',n)"
   ]
  },
  {
   "cell_type": "code",
   "execution_count": 143,
   "id": "4edaed29",
   "metadata": {},
   "outputs": [
    {
     "data": {
      "text/html": [
       "<div>\n",
       "<style scoped>\n",
       "    .dataframe tbody tr th:only-of-type {\n",
       "        vertical-align: middle;\n",
       "    }\n",
       "\n",
       "    .dataframe tbody tr th {\n",
       "        vertical-align: top;\n",
       "    }\n",
       "\n",
       "    .dataframe thead th {\n",
       "        text-align: right;\n",
       "    }\n",
       "</style>\n",
       "<table border=\"1\" class=\"dataframe\">\n",
       "  <thead>\n",
       "    <tr style=\"text-align: right;\">\n",
       "      <th></th>\n",
       "      <th>n_estimator</th>\n",
       "      <th>accuracy</th>\n",
       "    </tr>\n",
       "  </thead>\n",
       "  <tbody>\n",
       "    <tr>\n",
       "      <th>0</th>\n",
       "      <td>10</td>\n",
       "      <td>0.876058</td>\n",
       "    </tr>\n",
       "    <tr>\n",
       "      <th>1</th>\n",
       "      <td>20</td>\n",
       "      <td>0.876058</td>\n",
       "    </tr>\n",
       "    <tr>\n",
       "      <th>2</th>\n",
       "      <td>30</td>\n",
       "      <td>0.876058</td>\n",
       "    </tr>\n",
       "    <tr>\n",
       "      <th>3</th>\n",
       "      <td>40</td>\n",
       "      <td>0.876058</td>\n",
       "    </tr>\n",
       "    <tr>\n",
       "      <th>4</th>\n",
       "      <td>50</td>\n",
       "      <td>0.876058</td>\n",
       "    </tr>\n",
       "  </tbody>\n",
       "</table>\n",
       "</div>"
      ],
      "text/plain": [
       "   n_estimator  accuracy\n",
       "0           10  0.876058\n",
       "1           20  0.876058\n",
       "2           30  0.876058\n",
       "3           40  0.876058\n",
       "4           50  0.876058"
      ]
     },
     "execution_count": 143,
     "metadata": {},
     "output_type": "execute_result"
    }
   ],
   "source": [
    "grid_search_sk = pd.DataFrame(grid_search)\n",
    "grid_search_sk.sort_values(\"accuracy\",ascending=False).head()"
   ]
  },
  {
   "cell_type": "markdown",
   "id": "a41face7",
   "metadata": {},
   "source": [
    "#### Got same results from both models (trying higher numbers may increase accuracy, but our model takes relevantly a long time to run)"
   ]
  },
  {
   "cell_type": "markdown",
   "id": "ad6d233f",
   "metadata": {},
   "source": [
    "## Testing with optimized hyper parameters "
   ]
  },
  {
   "cell_type": "markdown",
   "id": "90df9144",
   "metadata": {},
   "source": [
    "### Testing based on our model"
   ]
  },
  {
   "cell_type": "code",
   "execution_count": 144,
   "id": "764996cd",
   "metadata": {},
   "outputs": [
    {
     "name": "stdout",
     "output_type": "stream",
     "text": [
      "Accuracy after tuning - our model: 0.8722133757961783\n",
      "Wall time: 18.5 s\n"
     ]
    }
   ],
   "source": [
    "%%time\n",
    "clf_opt = Adaboost(n_estimator=best_n_estimator)\n",
    "stumps = clf.fit(x_train, y_train)\n",
    "y_opt_pred = clf.predict(x_test,stumps)\n",
    "acc_opt = accuracy_score(y_test, y_opt_pred)\n",
    "print(\"Accuracy after tuning - our model:\", acc)"
   ]
  },
  {
   "cell_type": "code",
   "execution_count": null,
   "id": "ce91368b",
   "metadata": {},
   "outputs": [],
   "source": []
  },
  {
   "cell_type": "markdown",
   "id": "ab9c96c7",
   "metadata": {},
   "source": [
    "### Testing based on sklearn model"
   ]
  },
  {
   "cell_type": "code",
   "execution_count": 146,
   "id": "7e3bd29e",
   "metadata": {},
   "outputs": [
    {
     "name": "stdout",
     "output_type": "stream",
     "text": [
      "Accuracy - sklearn: 0.8817675159235668\n",
      "Wall time: 58.8 ms\n"
     ]
    }
   ],
   "source": [
    "%%time\n",
    "\n",
    "clf_opt_sk = AdaBoostClassifier(n_estimators=best_n_estimator, random_state=0)\n",
    "clf_opt_sk.fit(x_train, y_train)\n",
    "y_pred_sk = clf_opt_sk.predict(x_test)\n",
    "acc_opt_sk = accuracy_score(y_test, y_pred_sk)\n",
    "print(\"Accuracy - sklearn:\", acc_opt_sk)"
   ]
  },
  {
   "cell_type": "code",
   "execution_count": null,
   "id": "9e000f5e",
   "metadata": {},
   "outputs": [],
   "source": []
  },
  {
   "cell_type": "code",
   "execution_count": null,
   "id": "561a057a",
   "metadata": {},
   "outputs": [],
   "source": []
  }
 ],
 "metadata": {
  "kernelspec": {
   "display_name": "Python 3 (ipykernel)",
   "language": "python",
   "name": "python3"
  },
  "language_info": {
   "codemirror_mode": {
    "name": "ipython",
    "version": 3
   },
   "file_extension": ".py",
   "mimetype": "text/x-python",
   "name": "python",
   "nbconvert_exporter": "python",
   "pygments_lexer": "ipython3",
   "version": "3.9.7"
  }
 },
 "nbformat": 4,
 "nbformat_minor": 5
}
